{
 "cells": [
  {
   "cell_type": "code",
   "execution_count": 19,
   "metadata": {},
   "outputs": [],
   "source": [
    "import sys\n",
    "import warnings\n",
    "warnings.filterwarnings(\"ignore\")\n",
    "\n",
    "import os\n",
    "import codecs\n",
    "import json\n",
    "import cv2\n",
    "from keras.models import load_model\n",
    "import numpy as np\n",
    "from keras.preprocessing import image\n",
    "from tqdm import tqdm \n",
    "from utils.datasets import get_labels\n",
    "from utils.inference import detect_faces\n",
    "from utils.inference import draw_text\n",
    "from utils.inference import draw_bounding_box\n",
    "from utils.inference import apply_offsets\n",
    "from utils.inference import load_detection_model\n",
    "from utils.inference import load_image\n",
    "from utils.preprocessor import preprocess_input\n",
    "from keras.models import Model\n",
    "import tensorflow as tf"
   ]
  },
  {
   "cell_type": "code",
   "execution_count": 24,
   "metadata": {},
   "outputs": [],
   "source": [
    "data_path='../../Dataset/img_align_celeba/'"
   ]
  },
  {
   "cell_type": "code",
   "execution_count": 2,
   "metadata": {},
   "outputs": [],
   "source": [
    "# hyper-parameters for bounding boxes shape\n",
    "gender_offsets = (30, 60)\n",
    "gender_offsets = (10, 10)\n",
    "emotion_offsets = (20, 40)\n",
    "emotion_offsets = (0, 0)"
   ]
  },
  {
   "cell_type": "markdown",
   "metadata": {},
   "source": [
    "### Loading labels and Pre-trained models"
   ]
  },
  {
   "cell_type": "code",
   "execution_count": 3,
   "metadata": {},
   "outputs": [],
   "source": [
    "detection_model_path = '../trained_models/detection_models/haarcascade_frontalface_default.xml'\n",
    "emotion_model_path = '../trained_models/emotion_models/fer2013_mini_XCEPTION.102-0.66.hdf5'\n",
    "gender_model_path = '../trained_models/gender_models/simple_CNN.81-0.96.hdf5'"
   ]
  },
  {
   "cell_type": "code",
   "execution_count": 4,
   "metadata": {},
   "outputs": [],
   "source": [
    "emotion_labels = get_labels('fer2013')\n",
    "gender_labels = get_labels('imdb')"
   ]
  },
  {
   "cell_type": "code",
   "execution_count": 5,
   "metadata": {},
   "outputs": [
    {
     "name": "stdout",
     "output_type": "stream",
     "text": [
      "WARNING:tensorflow:From /home/sachingr/anaconda3/envs/py36/lib/python3.6/site-packages/tensorflow/python/ops/resource_variable_ops.py:435: colocate_with (from tensorflow.python.framework.ops) is deprecated and will be removed in a future version.\n",
      "Instructions for updating:\n",
      "Colocations handled automatically by placer.\n"
     ]
    }
   ],
   "source": [
    "face_detection = load_detection_model(detection_model_path)\n",
    "emotion_classifier = load_model(emotion_model_path, compile=False)\n",
    "gender_classifier = load_model(gender_model_path, compile=False)"
   ]
  },
  {
   "cell_type": "code",
   "execution_count": 6,
   "metadata": {},
   "outputs": [],
   "source": [
    "# getting input model shapes for inference\n",
    "emotion_target_size = emotion_classifier.input_shape[1:3]\n",
    "gender_target_size = gender_classifier.input_shape[1:3]"
   ]
  },
  {
   "cell_type": "code",
   "execution_count": 7,
   "metadata": {},
   "outputs": [],
   "source": [
    "np.set_printoptions(precision=3)\n",
    "np.set_printoptions(suppress=True)\n",
    "def converter(x):\n",
    "\n",
    "    #x has shape (batch, width, height, channels)\n",
    "    return (0.21 * x[:,:,:1]) + (0.72 * x[:,:,1:2]) + (0.07 * x[:,:,-1:])"
   ]
  },
  {
   "cell_type": "markdown",
   "metadata": {},
   "source": [
    "### Customizing Prediciton Functions (To ensure compatibility with LIME)"
   ]
  },
  {
   "cell_type": "code",
   "execution_count": 8,
   "metadata": {},
   "outputs": [],
   "source": [
    "target_size=None\n",
    "from skimage import io\n",
    "from skimage.color import rgb2gray\n",
    "from skimage import img_as_ubyte\n",
    "import random"
   ]
  },
  {
   "cell_type": "code",
   "execution_count": 9,
   "metadata": {},
   "outputs": [],
   "source": [
    "def gender_predict(img):\n",
    "    gray_image=converter(img)\n",
    "    rgb_image=np.squeeze(img)\n",
    "    rgb_image = rgb_image.astype('uint8')\n",
    "    \n",
    "    gray_image = np.squeeze(gray_image)\n",
    "    gray_image = gray_image.astype('uint8')\n",
    "    faces = detect_faces(face_detection, gray_image)\n",
    "\n",
    "    if len(faces)==0:\n",
    "        rand_index=random.randint(0,1)\n",
    "        ret_arr=np.zeros((1,2))\n",
    "        ret_arr[0][rand_index]=1.0\n",
    "        return ret_arr\n",
    "    x1, x2, y1, y2 = apply_offsets(faces[0], gender_offsets)\n",
    "    \n",
    "    rgb_face = rgb_image[y1:y2, x1:x2]\n",
    "    rgb_face = cv2.resize(rgb_face, (gender_target_size))\n",
    "\n",
    "    rgb_face = preprocess_input(rgb_face, False)\n",
    "    rgb_face = np.expand_dims(rgb_face, 0)\n",
    "    \n",
    "    return gender_classifier.predict(rgb_face)"
   ]
  },
  {
   "cell_type": "code",
   "execution_count": 10,
   "metadata": {},
   "outputs": [],
   "source": [
    "def emotion_predict(img):\n",
    "    gray_image=converter(img)\n",
    "    # print(gray_image.shape)\n",
    "    gray_image = np.squeeze(gray_image)\n",
    "    gray_image = gray_image.astype('uint8')\n",
    "    faces = detect_faces(face_detection, gray_image)\n",
    "\n",
    "    if len(faces)==0:\n",
    "        rand_index=random.randint(0,6)\n",
    "        ret_arr=np.zeros((1,7))\n",
    "        ret_arr[0][rand_index]=1.0\n",
    "        return ret_arr\n",
    "    \n",
    "    x1, x2, y1, y2 = apply_offsets(faces[0], emotion_offsets)\n",
    "    gray_face = gray_image[y1:y2, x1:x2]\n",
    "    gray_face = cv2.resize(gray_face, (emotion_target_size))\n",
    "\n",
    "    gray_face = preprocess_input(gray_face, True)\n",
    "    gray_face = np.expand_dims(gray_face, 0)\n",
    "    gray_face = np.expand_dims(gray_face, -1)\n",
    "    return emotion_classifier.predict(gray_face)"
   ]
  },
  {
   "cell_type": "markdown",
   "metadata": {},
   "source": [
    "### Storing Gender Predictions"
   ]
  },
  {
   "cell_type": "code",
   "execution_count": 55,
   "metadata": {},
   "outputs": [
    {
     "name": "stderr",
     "output_type": "stream",
     "text": [
      "100%|██████████| 1000/1000 [00:33<00:00, 30.02it/s]\n"
     ]
    }
   ],
   "source": [
    "output_dict={}\n",
    "for file in tqdm(os.listdir(data_path)):\n",
    "    rgb_img = io.imread(os.path.join(data_path,file))\n",
    "    output=gender_predict(rgb_img)[0]\n",
    "    output_dict[file]={gender_labels[i]:np.round(output[i]*100,2) for i in range(len(gender_labels))}"
   ]
  },
  {
   "cell_type": "code",
   "execution_count": 56,
   "metadata": {},
   "outputs": [],
   "source": [
    "import json\n",
    "\n",
    "with open('gender_results_1000.json', 'w') as fp:\n",
    "    json.dump(output_dict, fp)"
   ]
  },
  {
   "cell_type": "markdown",
   "metadata": {},
   "source": [
    "### Storing Emotion Predictions"
   ]
  },
  {
   "cell_type": "code",
   "execution_count": 57,
   "metadata": {},
   "outputs": [
    {
     "name": "stderr",
     "output_type": "stream",
     "text": [
      "100%|██████████| 1000/1000 [00:31<00:00, 31.67it/s]\n"
     ]
    }
   ],
   "source": [
    "output_dict={}\n",
    "for file in tqdm(os.listdir(data_path)):\n",
    "    rgb_img = io.imread(os.path.join(data_path,file))\n",
    "    output=emotion_predict(rgb_img)[0]\n",
    "    output_dict[file]={emotion_labels[i]:np.round(output[i]*100,2) for i in range(len(emotion_labels))}"
   ]
  },
  {
   "cell_type": "code",
   "execution_count": 61,
   "metadata": {},
   "outputs": [],
   "source": [
    "import json\n",
    "\n",
    "with open('emotion_results_1000.json', 'w') as fp:\n",
    "    json.dump(output_dict, fp)"
   ]
  },
  {
   "cell_type": "markdown",
   "metadata": {},
   "source": [
    "### LIME Masks"
   ]
  },
  {
   "cell_type": "code",
   "execution_count": 11,
   "metadata": {},
   "outputs": [],
   "source": [
    "import lime \n",
    "from lime import lime_image\n",
    "from math import ceil,floor\n",
    "from skimage.measure import block_reduce\n",
    "import matplotlib.pyplot as plt\n",
    "from skimage.segmentation import mark_boundaries\n",
    "%matplotlib inline\n",
    "explainer = lime_image.LimeImageExplainer()"
   ]
  },
  {
   "cell_type": "code",
   "execution_count": 12,
   "metadata": {},
   "outputs": [],
   "source": [
    "def generate_mask_gender(image):\n",
    "    np.random.seed(16)\n",
    "    explanation = explainer.explain_instance(image, gender_predict, top_labels=2, hide_color=0, num_samples=100,batch_size=1)\n",
    "    ret_list=[]\n",
    "    for label in explanation.top_labels:\n",
    "        temp, mask = explanation.get_image_and_mask(label, positive_only=True, num_features=6, hide_rest=False)\n",
    "        reduced_mask=block_reduce(mask, block_size=(7, 7), func=np.max)\n",
    "        ret_list+=[(reduced_mask,reduced_mask.tolist(),label)]\n",
    "    return ret_list\n",
    "\n",
    "def generate_mask_emotion(image):\n",
    "    np.random.seed(16)\n",
    "    explanation = explainer.explain_instance(image, emotion_predict, top_labels=7, hide_color=0, num_samples=100,batch_size=1)\n",
    "    ret_list=[]\n",
    "    for label in explanation.top_labels:\n",
    "        temp, mask = explanation.get_image_and_mask(label, positive_only=True, num_features=6, hide_rest=False)\n",
    "        reduced_mask=block_reduce(mask, block_size=(7, 7), func=np.max)\n",
    "        ret_list+=[(reduced_mask,reduced_mask.tolist(),label)]\n",
    "    return ret_list"
   ]
  },
  {
   "cell_type": "code",
   "execution_count": 13,
   "metadata": {},
   "outputs": [
    {
     "name": "stderr",
     "output_type": "stream",
     "text": [
      "100%|██████████| 1000/1000 [20:38<00:00,  1.03it/s]\n"
     ]
    }
   ],
   "source": [
    "for image in tqdm(os.listdir(data_path)):\n",
    "    rgb_img=io.imread(os.path.join(data_path,image))\n",
    "    emotion_masks=generate_mask_emotion(rgb_img)\n",
    "    gender_masks=generate_mask_gender(rgb_img)\n",
    "    outfile='../../lime_masks/'+image.split('.')[0]+'.json'\n",
    "    image_output={}\n",
    "    for arr,arr_list,label in emotion_masks:\n",
    "        image_output[emotion_labels[label]]=arr_list\n",
    "    \n",
    "    for arr,arr_list,label in gender_masks:\n",
    "        image_output[gender_labels[label]]=arr_list\n",
    "        \n",
    "    json.dump(image_output, codecs.open(outfile, 'w', encoding='utf-8'), sort_keys=True, indent=4)"
   ]
  },
  {
   "cell_type": "markdown",
   "metadata": {},
   "source": [
    "### Generate Emotion Predictions in D3 plot format"
   ]
  },
  {
   "cell_type": "code",
   "execution_count": 14,
   "metadata": {},
   "outputs": [],
   "source": [
    "format_dict=json.load(open('example_format.json','r'))"
   ]
  },
  {
   "cell_type": "code",
   "execution_count": 15,
   "metadata": {},
   "outputs": [],
   "source": [
    "format_dict['children']"
   ]
  },
  {
   "cell_type": "code",
   "execution_count": 16,
   "metadata": {},
   "outputs": [],
   "source": [
    "emotion_dict=json.load(open('emotion_results_1000.json','r'))"
   ]
  },
  {
   "cell_type": "code",
   "execution_count": 17,
   "metadata": {},
   "outputs": [],
   "source": [
    "for image in tqdm(emotion_dict):\n",
    "    outfile='../../emotion_predictions/'+image.split('.')[0]+'.json'\n",
    "    for dictionary in format_dict['children']:\n",
    "        emotion_label=dictionary['name']\n",
    "        dictionary['value']=np.round(emotion_dict[image][emotion_label]/100,2)\n",
    "    json.dump(format_dict, codecs.open(outfile, 'w', encoding='utf-8'), indent=4)"
   ]
  },
  {
   "cell_type": "markdown",
   "metadata": {},
   "source": [
    "### Feature Extractor for TSNE visuals"
   ]
  },
  {
   "cell_type": "code",
   "execution_count": 29,
   "metadata": {},
   "outputs": [],
   "source": [
    "from sklearn.decomposition import PCA\n",
    "import pickle"
   ]
  },
  {
   "cell_type": "code",
   "execution_count": 31,
   "metadata": {},
   "outputs": [],
   "source": [
    "genfeat_extractor = Model(inputs=gender_classifier.input, outputs=gender_classifier.get_layer(\"conv2d_8\").output)\n",
    "emofeat_extractor = Model(inputs=emotion_classifier.input, outputs=emotion_classifier.get_layer(\"conv2d_7\").output)\n",
    "images=[os.path.join(data_path,img) for img in os.listdir(data_path)]"
   ]
  },
  {
   "cell_type": "code",
   "execution_count": 32,
   "metadata": {},
   "outputs": [],
   "source": [
    "def gender_feature_extractor(img):\n",
    "    gray_image=converter(img)\n",
    "    rgb_image=np.squeeze(img)\n",
    "    rgb_image = rgb_image.astype('uint8')\n",
    "    \n",
    "    gray_image = np.squeeze(gray_image)\n",
    "    gray_image = gray_image.astype('uint8')\n",
    "    faces = detect_faces(face_detection, gray_image)\n",
    "\n",
    "    if len(faces)==0:\n",
    "        sampl=np.random.uniform(low=-35.5, high=35.5, size=(1,2304))\n",
    "        return sampl\n",
    "    \n",
    "    x1, x2, y1, y2 = apply_offsets(faces[0], gender_offsets)\n",
    "    \n",
    "    rgb_face = rgb_image[y1:y2, x1:x2]\n",
    "    rgb_face = cv2.resize(rgb_face, (gender_target_size))\n",
    "\n",
    "    rgb_face = preprocess_input(rgb_face, False)\n",
    "    rgb_face = np.expand_dims(rgb_face, 0)\n",
    "    \n",
    "    feat_out=genfeat_extractor.predict(rgb_face)[0]\n",
    "    feat_out=np.array([np.ndarray.flatten(feat_out)])\n",
    "    return feat_out"
   ]
  },
  {
   "cell_type": "code",
   "execution_count": 33,
   "metadata": {},
   "outputs": [],
   "source": [
    "def emotion_feature_extractor(img):\n",
    "    gray_image=converter(img)\n",
    "    # print(gray_image.shape)\n",
    "    gray_image = np.squeeze(gray_image)\n",
    "    gray_image = gray_image.astype('uint8')\n",
    "    faces = detect_faces(face_detection, gray_image)\n",
    "\n",
    "    if len(faces)==0:\n",
    "        sampl=np.random.uniform(low=-35.5, high=35.5, size=(1,112))\n",
    "        return sampl\n",
    "    \n",
    "    x1, x2, y1, y2 = apply_offsets(faces[0], emotion_offsets)\n",
    "    gray_face = gray_image[y1:y2, x1:x2]\n",
    "    gray_face = cv2.resize(gray_face, (emotion_target_size))\n",
    "\n",
    "    gray_face = preprocess_input(gray_face, True)\n",
    "    gray_face = np.expand_dims(gray_face, 0)\n",
    "    gray_face = np.expand_dims(gray_face, -1)\n",
    "    feat_out=emofeat_extractor.predict(gray_face)[0]\n",
    "    # feat_out.shape\n",
    "    feat_out=np.array([np.ndarray.flatten(feat_out)])\n",
    "    return feat_out"
   ]
  },
  {
   "cell_type": "code",
   "execution_count": 34,
   "metadata": {},
   "outputs": [],
   "source": [
    "def generate_feature_list(model='gender'):\n",
    "    feature_list=[]\n",
    "    image_list=[]\n",
    "    error=[]\n",
    "    for elem in tqdm(os.listdir(data_path)):\n",
    "        rgb_img = io.imread(os.path.join(data_path,elem))\n",
    "        if model=='emotion':\n",
    "            output=emotion_feature_extractor(rgb_img)\n",
    "        else:\n",
    "            output=gender_feature_extractor(rgb_img)\n",
    "        image_list.append(elem)\n",
    "        feature_list.append(list(output[0]))\n",
    "    return feature_list"
   ]
  },
  {
   "cell_type": "code",
   "execution_count": 36,
   "metadata": {},
   "outputs": [
    {
     "name": "stderr",
     "output_type": "stream",
     "text": [
      "100%|██████████| 1000/1000 [00:10<00:00, 92.69it/s]\n"
     ]
    }
   ],
   "source": [
    "model='gender'\n",
    "n_comp=100\n",
    "features = np.array(generate_feature_list(model))\n",
    "pca = PCA(n_components=n_comp)\n",
    "pca.fit(features)\n",
    "pca_features = pca.transform(features)\n",
    "pickle.dump([images, pca_features, pca], open('../../tSNE/assets/work/pcafeatures_gender.p', 'wb'))"
   ]
  },
  {
   "cell_type": "code",
   "execution_count": 37,
   "metadata": {},
   "outputs": [
    {
     "name": "stderr",
     "output_type": "stream",
     "text": [
      "100%|██████████| 1000/1000 [00:13<00:00, 72.67it/s]\n"
     ]
    }
   ],
   "source": [
    "model='emotion'\n",
    "n_comp=50\n",
    "features = np.array(generate_feature_list(model))\n",
    "pca = PCA(n_components=n_comp)\n",
    "pca.fit(features)\n",
    "pca_features = pca.transform(features)\n",
    "pickle.dump([images, pca_features, pca], open('../../tSNE/assets/work/pcafeatures_emotion.p', 'wb'))"
   ]
  },
  {
   "cell_type": "markdown",
   "metadata": {},
   "source": [
    "### Generating TSNE Images"
   ]
  },
  {
   "cell_type": "code",
   "execution_count": 28,
   "metadata": {},
   "outputs": [],
   "source": [
    "### Run the image-tsne.ipynb file using the appropriate pickle file generated above"
   ]
  }
 ],
 "metadata": {
  "kernelspec": {
   "display_name": "Python 3",
   "language": "python",
   "name": "python3"
  },
  "language_info": {
   "codemirror_mode": {
    "name": "ipython",
    "version": 3
   },
   "file_extension": ".py",
   "mimetype": "text/x-python",
   "name": "python",
   "nbconvert_exporter": "python",
   "pygments_lexer": "ipython3",
   "version": "3.6.8"
  }
 },
 "nbformat": 4,
 "nbformat_minor": 2
}
