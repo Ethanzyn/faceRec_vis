{
 "cells": [
  {
   "cell_type": "code",
   "execution_count": 63,
   "metadata": {},
   "outputs": [],
   "source": [
    "import sys\n",
    "import warnings\n",
    "warnings.filterwarnings(\"ignore\")\n",
    "\n",
    "import cv2\n",
    "from keras.models import load_model\n",
    "import numpy as np\n",
    "\n",
    "from utils.datasets import get_labels\n",
    "from utils.inference import detect_faces\n",
    "from utils.inference import draw_text\n",
    "from utils.inference import draw_bounding_box\n",
    "from utils.inference import apply_offsets\n",
    "from utils.inference import load_detection_model\n",
    "from utils.inference import load_image\n",
    "from utils.preprocessor import preprocess_input\n",
    "import tensorflow as tf"
   ]
  },
  {
   "cell_type": "code",
   "execution_count": 64,
   "metadata": {},
   "outputs": [],
   "source": [
    "# hyper-parameters for bounding boxes shape\n",
    "gender_offsets = (30, 60)\n",
    "gender_offsets = (10, 10)\n",
    "emotion_offsets = (20, 40)\n",
    "emotion_offsets = (0, 0)"
   ]
  },
  {
   "cell_type": "code",
   "execution_count": 65,
   "metadata": {},
   "outputs": [],
   "source": [
    "detection_model_path = '../trained_models/detection_models/haarcascade_frontalface_default.xml'\n",
    "emotion_model_path = '../trained_models/emotion_models/fer2013_mini_XCEPTION.102-0.66.hdf5'\n",
    "gender_model_path = '../trained_models/gender_models/simple_CNN.81-0.96.hdf5'"
   ]
  },
  {
   "cell_type": "code",
   "execution_count": 66,
   "metadata": {},
   "outputs": [],
   "source": [
    "emotion_labels = get_labels('fer2013')\n",
    "gender_labels = get_labels('imdb')"
   ]
  },
  {
   "cell_type": "code",
   "execution_count": 55,
   "metadata": {},
   "outputs": [],
   "source": [
    "image_path = '../../Dataset/img_align_celeba/000001.jpg'"
   ]
  },
  {
   "cell_type": "code",
   "execution_count": 67,
   "metadata": {},
   "outputs": [],
   "source": [
    "face_detection = load_detection_model(detection_model_path)\n",
    "emotion_classifier = load_model(emotion_model_path, compile=False)\n",
    "gender_classifier = load_model(gender_model_path, compile=False)"
   ]
  },
  {
   "cell_type": "code",
   "execution_count": 68,
   "metadata": {},
   "outputs": [],
   "source": [
    "\n",
    "# getting input model shapes for inference\n",
    "emotion_target_size = emotion_classifier.input_shape[1:3]\n",
    "gender_target_size = gender_classifier.input_shape[1:3]"
   ]
  },
  {
   "cell_type": "code",
   "execution_count": 8,
   "metadata": {},
   "outputs": [],
   "source": [
    "from keras.preprocessing import image\n"
   ]
  },
  {
   "cell_type": "code",
   "execution_count": 11,
   "metadata": {},
   "outputs": [],
   "source": [
    "# def remove_transparency(im, bg_colour=(255, 255, 255)):\n",
    "\n",
    "#     # Only process if image has transparency \n",
    "#     if im.mode in ('RGBA', 'LA') or (im.mode == 'P' and 'transparency' in im.info):\n",
    "\n",
    "#         # Need to convert to RGBA if LA format due to a bug in PIL \n",
    "#         alpha = im.convert('RGBA').split()[-1]\n",
    "\n",
    "#         # Create a new background image of our matt color.\n",
    "#         # Must be RGBA because paste requires both images have the same format\n",
    "\n",
    "#         bg = Image.new(\"RGBA\", im.size, bg_colour + (255,))\n",
    "#         bg.paste(im, mask=alpha)\n",
    "#         return bg\n",
    "\n",
    "#     else:\n",
    "#         return im"
   ]
  },
  {
   "cell_type": "code",
   "execution_count": 13,
   "metadata": {},
   "outputs": [],
   "source": [
    "np.set_printoptions(precision=3)\n",
    "np.set_printoptions(suppress=True)\n",
    "def converter(x):\n",
    "\n",
    "    #x has shape (batch, width, height, channels)\n",
    "    return (0.21 * x[:,:,:1]) + (0.72 * x[:,:,1:2]) + (0.07 * x[:,:,-1:])"
   ]
  },
  {
   "cell_type": "code",
   "execution_count": 56,
   "metadata": {},
   "outputs": [],
   "source": [
    "target_size=None\n",
    "from skimage import io\n",
    "from skimage.color import rgb2gray\n",
    "from skimage import img_as_ubyte\n",
    "rgb_img = io.imread(image_path)"
   ]
  },
  {
   "cell_type": "code",
   "execution_count": 57,
   "metadata": {},
   "outputs": [
    {
     "data": {
      "text/plain": [
       "(218, 178)"
      ]
     },
     "execution_count": 57,
     "metadata": {},
     "output_type": "execute_result"
    }
   ],
   "source": [
    "rgb_image=image.img_to_array(image.load_img(image_path, target_size=None,color_mode='rgb'))\n",
    "# gray_img=rgb2gray(rgb_img)\n",
    "# gray_image = img_as_ubyte(gray_img)\n",
    "gray_image=converter(rgb_image)\n",
    "# print(gray_image.shape)\n",
    "gray_image = np.squeeze(gray_image)\n",
    "gray_image = gray_image.astype('uint8')\n",
    "gray_image.shape"
   ]
  },
  {
   "cell_type": "raw",
   "metadata": {},
   "source": []
  },
  {
   "cell_type": "code",
   "execution_count": 19,
   "metadata": {},
   "outputs": [],
   "source": [
    "import lime "
   ]
  },
  {
   "cell_type": "code",
   "execution_count": 20,
   "metadata": {},
   "outputs": [],
   "source": [
    "from lime import lime_image"
   ]
  },
  {
   "cell_type": "code",
   "execution_count": 21,
   "metadata": {},
   "outputs": [],
   "source": [
    "explainer = lime_image.LimeImageExplainer()"
   ]
  },
  {
   "cell_type": "code",
   "execution_count": 282,
   "metadata": {},
   "outputs": [
    {
     "name": "stdout",
     "output_type": "stream",
     "text": [
      "1\n"
     ]
    }
   ],
   "source": [
    "# def gender_preprocess\n",
    "# def gender_predict\n",
    "\n",
    "gray_image=converter(rgb_img)\n",
    "# print(gray_image.shape)\n",
    "gray_image = np.squeeze(gray_image)\n",
    "gray_image = gray_image.astype('uint8')\n",
    "# print('HERE....')\n",
    "faces = detect_faces(face_detection, gray_image)\n",
    "print(len(faces))"
   ]
  },
  {
   "cell_type": "code",
   "execution_count": 41,
   "metadata": {},
   "outputs": [],
   "source": [
    "import random\n",
    "def emotion_predict(img):\n",
    "    gray_image=converter(img)\n",
    "    # print(gray_image.shape)\n",
    "    gray_image = np.squeeze(gray_image)\n",
    "    gray_image = gray_image.astype('uint8')\n",
    "    faces = detect_faces(face_detection, gray_image)\n",
    "\n",
    "    if len(faces)==0:\n",
    "        rand_index=random.randint(0,6)\n",
    "        ret_arr=np.zeros((1,7))\n",
    "        ret_arr[0][rand_index]=1.0\n",
    "        return ret_arr\n",
    "    x1, x2, y1, y2 = apply_offsets(faces[0], emotion_offsets)\n",
    "\n",
    "    gray_face = gray_image[y1:y2, x1:x2]\n",
    "    gray_face = cv2.resize(gray_face, (emotion_target_size))\n",
    "\n",
    "    gray_face = preprocess_input(gray_face, True)\n",
    "    gray_face = np.expand_dims(gray_face, 0)\n",
    "    gray_face = np.expand_dims(gray_face, -1)\n",
    "    return emotion_classifier.predict(gray_face)"
   ]
  },
  {
   "cell_type": "code",
   "execution_count": 53,
   "metadata": {
    "scrolled": true
   },
   "outputs": [
    {
     "data": {
      "text/plain": [
       "array([[ 0.771,  0.554,  1.265,  0.124, 76.321,  0.045, 20.92 ]],\n",
       "      dtype=float32)"
      ]
     },
     "execution_count": 53,
     "metadata": {},
     "output_type": "execute_result"
    }
   ],
   "source": [
    "import numpy as np\n",
    "emotion_predict(rgb_img)*100\n",
    "# np.zeros((1,7))"
   ]
  },
  {
   "cell_type": "code",
   "execution_count": 43,
   "metadata": {},
   "outputs": [
    {
     "data": {
      "text/plain": [
       "array([[0., 0., 0., 0., 0., 0., 0.]], dtype=float32)"
      ]
     },
     "execution_count": 43,
     "metadata": {},
     "output_type": "execute_result"
    }
   ],
   "source": [
    "np.zeros((1,7)).astype('float32')"
   ]
  },
  {
   "cell_type": "code",
   "execution_count": 44,
   "metadata": {},
   "outputs": [],
   "source": [
    "# display(image.load_img(image_path, target_size=None,color_mode='rgba\n",
    "# image.img_to_array(test_img)\n",
    "# x = np.expand_dims(rgb_img, axis=0)\n",
    "# x.shape"
   ]
  },
  {
   "cell_type": "code",
   "execution_count": 58,
   "metadata": {
    "scrolled": true
   },
   "outputs": [],
   "source": [
    "explanation = explainer.explain_instance(rgb_img, emotion_predict, top_labels=1, hide_color=0, num_samples=1000,batch_size=1)"
   ]
  },
  {
   "cell_type": "code",
   "execution_count": 59,
   "metadata": {},
   "outputs": [
    {
     "data": {
      "text/plain": [
       "<matplotlib.image.AxesImage at 0x7fde6c072208>"
      ]
     },
     "execution_count": 59,
     "metadata": {},
     "output_type": "execute_result"
    },
    {
     "data": {
      "image/png": "[encoded data removed]",
      "text/plain": [
       "<Figure size 432x288 with 1 Axes>"
      ]
     },
     "metadata": {
      "needs_background": "light"
     },
     "output_type": "display_data"
    }
   ],
   "source": [
    "import matplotlib.pyplot as plt\n",
    "from skimage.segmentation import mark_boundaries\n",
    "%matplotlib inline\n",
    "temp, mask = explanation.get_image_and_mask(explanation.top_labels[0], positive_only=True, num_features=5, hide_rest=True)\n",
    "plt.imshow(mask)"
   ]
  },
  {
   "cell_type": "code",
   "execution_count": 70,
   "metadata": {},
   "outputs": [],
   "source": [
    "import os"
   ]
  },
  {
   "cell_type": "code",
   "execution_count": null,
   "metadata": {},
   "outputs": [],
   "source": []
  },
  {
   "cell_type": "code",
   "execution_count": null,
   "metadata": {},
   "outputs": [],
   "source": [
    "data_path='../../Dataset/img_align_celeba/'\n",
    "output_dict={}\n",
    "for file in os.listdir(data_path):\n",
    "    rgb_img = io.imread(os.path.join(data_path,file))\n",
    "    output=emotion_predict(rgb_img)[0]\n",
    "    output_dict[file]={emotion_labels[i]:np.round(output[i]*100,2) for i in range(len(emotion_labels))}"
   ]
  },
  {
   "cell_type": "code",
   "execution_count": null,
   "metadata": {},
   "outputs": [],
   "source": []
  }
 ],
 "metadata": {
  "kernelspec": {
   "display_name": "Python 3",
   "language": "python",
   "name": "python3"
  },
  "language_info": {
   "codemirror_mode": {
    "name": "ipython",
    "version": 3
   },
   "file_extension": ".py",
   "mimetype": "text/x-python",
   "name": "python",
   "nbconvert_exporter": "python",
   "pygments_lexer": "ipython3",
   "version": "3.6.8"
  }
 },
 "nbformat": 4,
 "nbformat_minor": 2
}
