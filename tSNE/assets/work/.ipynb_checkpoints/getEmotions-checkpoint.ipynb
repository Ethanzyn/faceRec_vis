{
 "cells": [
  {
   "cell_type": "code",
   "execution_count": 1,
   "metadata": {},
   "outputs": [],
   "source": [
    "import json"
   ]
  },
  {
   "cell_type": "code",
   "execution_count": 2,
   "metadata": {},
   "outputs": [],
   "source": [
    "with open('emotion_results.json') as json_file:\n",
    "    data = json.load(json_file)"
   ]
  },
  {
   "cell_type": "code",
   "execution_count": 3,
   "metadata": {},
   "outputs": [
    {
     "name": "stdout",
     "output_type": "stream",
     "text": [
      "{'angry': 0.13, 'disgust': 0.0, 'fear': 0.05, 'happy': 98.87, 'sad': 0.02, 'surprise': 0.25, 'neutral': 0.68}\n"
     ]
    }
   ],
   "source": [
    "print(data['000001.jpg'])"
   ]
  },
  {
   "cell_type": "code",
   "execution_count": 6,
   "metadata": {},
   "outputs": [],
   "source": [
    "angryList = []\n",
    "disgustList = []\n",
    "fearList = []\n",
    "happyList = []\n",
    "sadList = []\n",
    "surpriseList = []\n",
    "neutralList = []"
   ]
  },
  {
   "cell_type": "code",
   "execution_count": 11,
   "metadata": {},
   "outputs": [
    {
     "name": "stdout",
     "output_type": "stream",
     "text": [
      "10644\n",
      "26269\n",
      "47654\n",
      "271483\n"
     ]
    }
   ],
   "source": [
    "for image in data:\n",
    "    num = image[0:-4]\n",
    "    emotions = data[image]\n",
    "    #maxEmotion = max(emotions['angry'], emotions['disgust'], \\\n",
    "     #                emotions['fear'], emotions['happy'], emotions['sad'], \\\n",
    "      #               emotions['surprise'], emotions['neutral'])\n",
    "    maxEmotion = max(emotions, key=emotions.get)\n",
    "    if maxEmotion == \"angry\":\n",
    "        angryList.append(num)\n",
    "    elif maxEmotion == \"disgust\":\n",
    "        disgustList.append(num)\n",
    "    elif maxEmotion == \"fear\":\n",
    "        fearList.append(num)\n",
    "    elif maxEmotion == \"happy\":\n",
    "        happyList.append(num)\n",
    "    elif maxEmotion == \"sad\":\n",
    "        sadList.append(num)\n",
    "    elif maxEmotion == \"surprise\":\n",
    "        surpriseList.append(num)\n",
    "    elif maxEmotion == \"neutral\":\n",
    "        neutralList.append(num)\n",
    "\n",
    "print(len(disgustList))\n",
    "print(len(fearList))\n",
    "print(len(sadList))\n",
    "print(len(happyList))"
   ]
  },
  {
   "cell_type": "code",
   "execution_count": 14,
   "metadata": {},
   "outputs": [
    {
     "name": "stdout",
     "output_type": "stream",
     "text": [
      "angryList\n",
      "disgustList\n",
      "fearList\n",
      "happyList\n",
      "sadList\n",
      "surpriseList\n",
      "neutralList\n"
     ]
    }
   ],
   "source": [
    "import csv\n",
    "\n",
    "lists = [angryList, disgustList, fearList, happyList, sadList, surpriseList, neutralList]\n",
    "emotions = [\"angry\", \"disgust\", \"fear\", \"happy\", \"sad\", \"surprise\", \"neutral\"]\n",
    "\n",
    "for i in range(7):\n",
    "    lst = lists[i]\n",
    "    emotion = emotions[i]\n",
    "    path = emotion + \"List\"\n",
    "    print(path)\n",
    "    with open(path, mode='w') as csv_file:\n",
    "        fieldnames = ['isEmotion']\n",
    "        writer = csv.DictWriter(csv_file, fieldnames=fieldnames)\n",
    "\n",
    "        writer.writeheader()\n",
    "        for i in range(len(lst)):\n",
    "            writer.writerow({'isEmotion': lst[i]})"
   ]
  },
  {
   "cell_type": "code",
   "execution_count": null,
   "metadata": {},
   "outputs": [],
   "source": []
  }
 ],
 "metadata": {
  "kernelspec": {
   "display_name": "Python 3",
   "language": "python",
   "name": "python3"
  },
  "language_info": {
   "codemirror_mode": {
    "name": "ipython",
    "version": 3
   },
   "file_extension": ".py",
   "mimetype": "text/x-python",
   "name": "python",
   "nbconvert_exporter": "python",
   "pygments_lexer": "ipython3",
   "version": "3.7.4"
  }
 },
 "nbformat": 4,
 "nbformat_minor": 2
}
