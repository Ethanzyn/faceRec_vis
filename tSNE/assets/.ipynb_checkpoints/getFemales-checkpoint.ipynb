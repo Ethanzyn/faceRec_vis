{
 "cells": [
  {
   "cell_type": "code",
   "execution_count": 5,
   "metadata": {},
   "outputs": [],
   "source": [
    "import json\n",
    "\n",
    "with open('gender_results.json') as json_file:\n",
    "    data = json.load(json_file)"
   ]
  },
  {
   "cell_type": "code",
   "execution_count": 6,
   "metadata": {},
   "outputs": [
    {
     "name": "stdout",
     "output_type": "stream",
     "text": [
      "{'woman': 94.58, 'man': 5.42}\n"
     ]
    }
   ],
   "source": [
    "print(data['000001.jpg'])"
   ]
  },
  {
   "cell_type": "code",
   "execution_count": null,
   "metadata": {},
   "outputs": [],
   "source": [
    "for image in data:\n",
    "    print(data[image]['woman'], data[image]['man'], data[image]['woman'] + data[image]['man'])"
   ]
  },
  {
   "cell_type": "code",
   "execution_count": 13,
   "metadata": {},
   "outputs": [
    {
     "name": "stdout",
     "output_type": "stream",
     "text": [
      "190469\n",
      "12130\n"
     ]
    }
   ],
   "source": [
    "females = []\n",
    "femaleCount = 0\n",
    "maleCount = 0\n",
    "for image in data:\n",
    "    num = int(image[0:-4])\n",
    "    imageInfo = data[image]\n",
    "    #print(imageInfo['woman'])\n",
    "    gender = imageInfo['woman']\n",
    "    if gender >= 0.7:\n",
    "        females.append(num)\n",
    "        femaleCount += 1\n",
    "    else:\n",
    "        maleCount += 1\n",
    "#print(females)\n",
    "print(femaleCount)\n",
    "print(maleCount)"
   ]
  },
  {
   "cell_type": "code",
   "execution_count": 11,
   "metadata": {},
   "outputs": [],
   "source": [
    "import csv\n",
    "femalesPath = \"femalesList\"\n",
    "\n",
    "with open(femalesPath, mode='w') as csv_file:\n",
    "    fieldnames = ['isF']\n",
    "    writer = csv.DictWriter(csv_file, fieldnames=fieldnames)\n",
    "\n",
    "    writer.writeheader()\n",
    "    for i in range(len(females)):\n",
    "        writer.writerow({'isF': females[i]})"
   ]
  },
  {
   "cell_type": "code",
   "execution_count": null,
   "metadata": {},
   "outputs": [],
   "source": []
  }
 ],
 "metadata": {
  "kernelspec": {
   "display_name": "Python 3",
   "language": "python",
   "name": "python3"
  },
  "language_info": {
   "codemirror_mode": {
    "name": "ipython",
    "version": 3
   },
   "file_extension": ".py",
   "mimetype": "text/x-python",
   "name": "python",
   "nbconvert_exporter": "python",
   "pygments_lexer": "ipython3",
   "version": "3.7.4"
  }
 },
 "nbformat": 4,
 "nbformat_minor": 2
}
